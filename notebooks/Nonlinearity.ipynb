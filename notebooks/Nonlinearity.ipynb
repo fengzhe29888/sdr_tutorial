{
 "cells": [
  {
   "cell_type": "code",
   "execution_count": null,
   "metadata": {
    "ExecuteTime": {
     "end_time": "2016-10-26T08:08:55.852585",
     "start_time": "2016-10-26T08:08:54.749314"
    },
    "collapsed": false
   },
   "outputs": [],
   "source": [
    "# Imports\n",
    "%matplotlib inline\n",
    "from __future__ import division\n",
    "import matplotlib\n",
    "import numpy as np\n",
    "# enable interactive plots\n",
    "import matplotlib.pyplot as plt,mpld3\n",
    "mpld3.enable_notebook()\n",
    "from pylab import rcParams\n",
    "rcParams['figure.figsize'] = (9.0, 5.0)\n",
    "from IPython.html.widgets import interactive\n",
    "from IPython.display import display\n",
    "from scipy import signal"
   ]
  },
  {
   "cell_type": "markdown",
   "metadata": {},
   "source": [
    "## Nonlinearities\n",
    "In this lab, we will generate a band limited random signal and then model a nonlinearity.  From the model, we will observe the distortion effects on the signal.  As was discussed in the slides, passband nonlinearities can be modeled in the baseband, so we will restrict our attention to oversampled baseband signals.\n",
    "\n",
    "### Step 1: Create Model Signal\n"
   ]
  },
  {
   "cell_type": "code",
   "execution_count": null,
   "metadata": {
    "ExecuteTime": {
     "end_time": "2016-10-26T08:08:58.353578",
     "start_time": "2016-10-26T08:08:56.908177"
    },
    "collapsed": false
   },
   "outputs": [],
   "source": [
    "num_samples = 200\n",
    "\n",
    "# set seed value (optional)\n",
    "np.random.seed(10)\n",
    "\n",
    "# generate numpy array of random numbers\n",
    "x_real = np.random.randn(num_samples)\n",
    "x_imag = np.random.randn(num_samples)\n",
    "x = x_real + 1j*x_imag\n",
    "\n",
    "# plot\n",
    "plt.figure(1)\n",
    "plt.plot(x_real,'b');\n",
    "plt.xlabel('sample index');\n",
    "plt.figure(2)\n",
    "plt.plot(x_imag,'g');\n",
    "plt.xlabel('sample index');\n",
    "\n",
    "plt.figure(3)\n",
    "plt.plot(abs(x),'r');\n",
    "plt.xlabel('sample index');"
   ]
  },
  {
   "cell_type": "markdown",
   "metadata": {},
   "source": [
    "### Step 2: Oversample"
   ]
  },
  {
   "cell_type": "code",
   "execution_count": null,
   "metadata": {
    "ExecuteTime": {
     "end_time": "2016-10-26T08:09:03.669607",
     "start_time": "2016-10-26T08:09:02.898958"
    },
    "collapsed": false
   },
   "outputs": [],
   "source": [
    "factor = 10\n",
    "continuous_samples = x.size*factor\n",
    "# print continuous_samples,x.size\n",
    "x_continuous_real = signal.resample(x_real,continuous_samples)\n",
    "x_continuous_imag = signal.resample(x_imag,continuous_samples)\n",
    "\n",
    "x_continuous = x_continuous_real + 1j*x_continuous_imag\n",
    "time_range = np.linspace(0,num_samples/1000,continuous_samples)\n",
    "plt.plot(time_range,abs(x_continuous),'b');\n",
    "plt.ylabel('Amplitude')\n",
    "plt.grid(True)\n",
    "\n",
    "def plot_spectrum(x,sample_rate,fig_num=1,col='b'):\n",
    "    # Calculate DFT\n",
    "    spectrum = np.fft.fft(x)\n",
    "\n",
    "    # DFT frequencies\n",
    "    freq = np.fft.fftfreq(x.size)\n",
    "\n",
    "    # plot FFT\n",
    "    plt.figure(fig_num)\n",
    "#     plt.plot(freq)\n",
    "    plt.plot(freq*sample_rate, 20*np.log10(abs(spectrum)+1e-10), col);\n",
    "    plt.ylabel('Power [dB]');\n",
    "    plt.xlabel('Frequency [Hz]');\n",
    "    plt.grid(True)\n",
    "    \n",
    "plot_spectrum(x_continuous,factor*1000,fig_num=2,col='r')"
   ]
  },
  {
   "cell_type": "markdown",
   "metadata": {},
   "source": [
    "### Step 3: Nonlinear Response"
   ]
  },
  {
   "cell_type": "code",
   "execution_count": null,
   "metadata": {
    "ExecuteTime": {
     "end_time": "2016-10-26T08:09:09.761610",
     "start_time": "2016-10-26T08:09:09.446153"
    },
    "collapsed": false
   },
   "outputs": [],
   "source": [
    "def soft_clip(x,max_value_in):\n",
    "    mv = max_value_in*np.ones(x.size)\n",
    "    mag = np.min(np.vstack((abs(x),mv)),0)\n",
    "    return mag*np.exp(1j*np.angle(x))\n",
    "\n",
    "clip_point = 4\n",
    "x = np.linspace(-10,10,1e2)\n",
    "plt.plot(abs(x),abs(soft_clip(x,clip_point)))\n",
    "plt.ylim([-clip_point-1,clip_point+1]);\n",
    "plt.grid(True)"
   ]
  },
  {
   "cell_type": "markdown",
   "metadata": {},
   "source": [
    "### Step 4: Pass Signal Through Nonlinearity"
   ]
  },
  {
   "cell_type": "code",
   "execution_count": null,
   "metadata": {
    "ExecuteTime": {
     "end_time": "2016-10-26T08:09:14.828577",
     "start_time": "2016-10-26T08:09:14.450451"
    },
    "collapsed": false
   },
   "outputs": [],
   "source": [
    "y = soft_clip(x_continuous,2.0)\n",
    "\n",
    "plot_spectrum(x_continuous,factor*1000,fig_num=2,col='r.')\n",
    "plot_spectrum(y,factor*1000,fig_num=2,col='b.')"
   ]
  },
  {
   "cell_type": "markdown",
   "metadata": {},
   "source": [
    "### Step 5: Mitigate Nonlinearity with Backoff"
   ]
  },
  {
   "cell_type": "code",
   "execution_count": null,
   "metadata": {
    "ExecuteTime": {
     "end_time": "2016-10-26T08:09:19.723115",
     "start_time": "2016-10-26T08:09:19.300160"
    },
    "collapsed": false
   },
   "outputs": [],
   "source": [
    "pre_gain = .5\n",
    "y = soft_clip(pre_gain*x_continuous,2.0)\n",
    "\n",
    "plot_spectrum(x_continuous,factor*1000,fig_num=2,col='r.')\n",
    "plot_spectrum(y,factor*1000,fig_num=2,col='b.')"
   ]
  },
  {
   "cell_type": "markdown",
   "metadata": {},
   "source": [
    "### Step 6: Create Interactive\n",
    "Create an interactive element.\n",
    "\n",
    "#### Inputs\n",
    "- input back off\n",
    "- clipping level\n",
    "\n",
    "#### outputs\n",
    "- time plot (before and after NL)\n",
    "- spectrum plot (before and after NL)"
   ]
  },
  {
   "cell_type": "code",
   "execution_count": null,
   "metadata": {
    "ExecuteTime": {
     "end_time": "2016-10-26T08:09:45.306077",
     "start_time": "2016-10-26T08:09:45.301874"
    },
    "collapsed": false
   },
   "outputs": [],
   "source": [
    "##########  Insert Code in this cell  ###########\n",
    "def plot_NL_demo():  # add arguments and default values\n",
    "    \n",
    "#     pre_gain = .5\n",
    "\n",
    "\n",
    "interactive()  # add arguments and ranges"
   ]
  },
  {
   "cell_type": "code",
   "execution_count": null,
   "metadata": {
    "collapsed": true
   },
   "outputs": [],
   "source": []
  }
 ],
 "metadata": {
  "anaconda-cloud": {},
  "hide_input": false,
  "kernelspec": {
   "display_name": "Python 2",
   "language": "python",
   "name": "python2"
  },
  "language_info": {
   "codemirror_mode": {
    "name": "ipython",
    "version": 2
   },
   "file_extension": ".py",
   "mimetype": "text/x-python",
   "name": "python",
   "nbconvert_exporter": "python",
   "pygments_lexer": "ipython2",
   "version": "2.7.9"
  },
  "latex_envs": {
   "bibliofile": "biblio.bib",
   "cite_by": "apalike",
   "current_citInitial": 1,
   "eqLabelWithNumbers": true,
   "eqNumInitial": 0
  },
  "nav_menu": {},
  "toc": {
   "navigate_menu": true,
   "number_sections": true,
   "sideBar": true,
   "threshold": 6,
   "toc_cell": false,
   "toc_section_display": "block",
   "toc_window_display": false
  }
 },
 "nbformat": 4,
 "nbformat_minor": 0
}
