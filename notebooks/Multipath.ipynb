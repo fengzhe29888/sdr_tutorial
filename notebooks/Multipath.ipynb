{
 "cells": [
  {
   "cell_type": "code",
   "execution_count": null,
   "metadata": {
    "ExecuteTime": {
     "end_time": "2016-10-26T08:10:30.393021",
     "start_time": "2016-10-26T08:10:29.180767"
    },
    "collapsed": false
   },
   "outputs": [],
   "source": [
    "# Imports\n",
    "%matplotlib inline\n",
    "from __future__ import division\n",
    "import matplotlib\n",
    "from mpl_toolkits.mplot3d import Axes3D\n",
    "import numpy as np\n",
    "import matplotlib.pyplot as plt\n",
    "from pylab import rcParams\n",
    "rcParams['figure.figsize'] = (9.0, 5.0)\n",
    "import numpy as np\n",
    "from IPython.html.widgets import interactive\n",
    "from IPython.display import display, Audio\n",
    "from scipy import signal\n",
    "import matplotlib.pyplot as plt,mpld3\n",
    "mpld3.enable_notebook()"
   ]
  },
  {
   "cell_type": "markdown",
   "metadata": {},
   "source": [
    "### Step 1: 1-D Histogram"
   ]
  },
  {
   "cell_type": "code",
   "execution_count": null,
   "metadata": {
    "ExecuteTime": {
     "end_time": "2016-10-26T08:10:31.384639",
     "start_time": "2016-10-26T08:10:30.817035"
    },
    "collapsed": false
   },
   "outputs": [],
   "source": [
    "N = 10000\n",
    "num_paths = 300\n",
    "h_hat = np.zeros(N)\n",
    "\n",
    "for k in range(num_paths):\n",
    "    h_hat += np.random.rand(N)\n",
    "    \n",
    "plt.hist(h_hat,bins=40);\n",
    "plt.title('num_paths = ' + str(num_paths));"
   ]
  },
  {
   "cell_type": "markdown",
   "metadata": {},
   "source": [
    "### Step 2: 2-D"
   ]
  },
  {
   "cell_type": "code",
   "execution_count": null,
   "metadata": {
    "ExecuteTime": {
     "end_time": "2016-10-26T08:10:33.026460",
     "start_time": "2016-10-26T08:10:32.662743"
    },
    "collapsed": false
   },
   "outputs": [],
   "source": [
    "N = 10000\n",
    "num_paths = 20\n",
    "h_hat = np.zeros(N)+1j*np.zeros(N)\n",
    "\n",
    "for k in range(num_paths):\n",
    "    h_hat += np.random.rand(N) + 1j*np.random.rand(N)\n",
    "    \n",
    "plt.hist2d(np.real(h_hat),np.imag(h_hat),bins=20);\n",
    "plt.title('num_paths = ' + str(num_paths));"
   ]
  },
  {
   "cell_type": "markdown",
   "metadata": {},
   "source": [
    "### Step 3: Power Distribution (Chi Square)"
   ]
  },
  {
   "cell_type": "code",
   "execution_count": null,
   "metadata": {
    "ExecuteTime": {
     "end_time": "2016-10-26T08:10:34.857959",
     "start_time": "2016-10-26T08:10:34.366222"
    },
    "collapsed": false
   },
   "outputs": [],
   "source": [
    "N = 10000\n",
    "num_paths = 2\n",
    "h_hat = np.zeros(N)+1j*np.zeros(N)\n",
    "\n",
    "for k in range(num_paths):\n",
    "    h_hat += np.random.rand(N) + 1j*np.random.rand(N)\n",
    "    \n",
    "plt.hist(abs(h_hat)**2,bins=40);\n",
    "plt.title('num_paths = ' + str(num_paths));"
   ]
  },
  {
   "cell_type": "markdown",
   "metadata": {},
   "source": [
    "### Step 4: Multipath as a Filter"
   ]
  },
  {
   "cell_type": "code",
   "execution_count": null,
   "metadata": {
    "ExecuteTime": {
     "end_time": "2016-10-26T08:10:36.914244",
     "start_time": "2016-10-26T08:10:36.188270"
    },
    "collapsed": false
   },
   "outputs": [],
   "source": [
    "L = 15\n",
    "h_non_exponential = np.random.randn(L) + 1j*np.random.randn(L)\n",
    "\n",
    "alpha = 0.5\n",
    "power_val = np.arange(L)\n",
    "\n",
    "amplitude_envelope = np.sqrt(np.power(alpha,power_val))\n",
    "\n",
    "h = h_non_exponential*amplitude_envelope\n",
    "\n",
    "plt.figure(1)\n",
    "plt.stem(abs(h))\n",
    "plt.xlim([-.5,L+.5])\n",
    "\n",
    "NFFT = 512\n",
    "\n",
    "# Calculate DFT\n",
    "spectrum = np.fft.fft(h,NFFT)\n",
    "\n",
    "# DFT frequencies\n",
    "freq = np.fft.fftfreq(NFFT)\n",
    "\n",
    "# spectrum.size\n",
    "# plot FFT\n",
    "plt.figure(2)\n",
    "plt.plot(freq*2,abs(spectrum), 'b.');\n",
    "plt.ylabel('Power [dB]');\n",
    "plt.xlabel('Frequency [Hz]');\n",
    "plt.grid(True)\n",
    "\n"
   ]
  },
  {
   "cell_type": "markdown",
   "metadata": {},
   "source": [
    "### Step 5: Make Interactive\n",
    "Inputs\n",
    "- channel length (L)\n",
    "- falloff (alpha)\n",
    "\n",
    "Outputs\n",
    "- stem plot of impulse response\n",
    "- frequency response"
   ]
  },
  {
   "cell_type": "code",
   "execution_count": null,
   "metadata": {
    "ExecuteTime": {
     "end_time": "2016-10-26T08:12:10.646734",
     "start_time": "2016-10-26T08:12:10.642568"
    },
    "collapsed": false
   },
   "outputs": [],
   "source": [
    "##########  Insert Code in this cell  ###########\n",
    "def plot_MP_demo():  # add arguments and default values\n",
    " \n",
    "interactive()  # add arguments and ranges"
   ]
  },
  {
   "cell_type": "code",
   "execution_count": null,
   "metadata": {
    "collapsed": true
   },
   "outputs": [],
   "source": []
  }
 ],
 "metadata": {
  "anaconda-cloud": {},
  "hide_input": false,
  "kernelspec": {
   "display_name": "Python 2",
   "language": "python",
   "name": "python2"
  },
  "language_info": {
   "codemirror_mode": {
    "name": "ipython",
    "version": 2
   },
   "file_extension": ".py",
   "mimetype": "text/x-python",
   "name": "python",
   "nbconvert_exporter": "python",
   "pygments_lexer": "ipython2",
   "version": "2.7.9"
  },
  "latex_envs": {
   "bibliofile": "biblio.bib",
   "cite_by": "apalike",
   "current_citInitial": 1,
   "eqLabelWithNumbers": true,
   "eqNumInitial": 0
  },
  "nav_menu": {},
  "toc": {
   "navigate_menu": true,
   "number_sections": true,
   "sideBar": true,
   "threshold": 6,
   "toc_cell": false,
   "toc_section_display": "block",
   "toc_window_display": false
  }
 },
 "nbformat": 4,
 "nbformat_minor": 0
}
