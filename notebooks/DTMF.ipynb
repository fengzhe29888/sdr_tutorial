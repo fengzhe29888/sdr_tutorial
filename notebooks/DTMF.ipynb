{
 "cells": [
  {
   "cell_type": "code",
   "execution_count": null,
   "metadata": {
    "collapsed": false
   },
   "outputs": [],
   "source": [
    "# Imports\n",
    "%matplotlib inline\n",
    "from __future__ import division\n",
    "import matplotlib\n",
    "import numpy as np\n",
    "import matplotlib.pyplot as plt\n",
    "from pylab import rcParams\n",
    "rcParams['figure.figsize'] = (9.0, 5.0)\n",
    "import numpy as np\n",
    "from IPython.html.widgets import interactive\n",
    "from IPython.display import display, Audio\n",
    "from scipy import signal\n",
    "import matplotlib.pyplot as plt,mpld3\n",
    "mpld3.enable_notebook()"
   ]
  },
  {
   "cell_type": "markdown",
   "metadata": {},
   "source": [
    "### Step 1: Copy Code from Earlier"
   ]
  },
  {
   "cell_type": "code",
   "execution_count": null,
   "metadata": {
    "collapsed": false
   },
   "outputs": [],
   "source": [
    "# Define Frequencies\n",
    "rows = [697,770,852,941]\n",
    "cols = [1209,1336,1477]\n",
    "key_pad = np.array([[1,2,3],[4,5,6],[7,8,9],[-1,0,-1]])\n",
    "\n",
    "\n",
    "def play_key(key_num,duration=1):\n",
    "    samp_rate = 8000\n",
    "    f1 = rows[int(np.where(key_pad==key_num)[0])]\n",
    "    f2 = cols[int(np.where(key_pad==key_num)[1])]\n",
    "    print key_num, f1, f2\n",
    "    t = np.linspace(0,duration,duration*samp_rate)\n",
    "    signal = np.cos(2*np.pi*f1*t)+np.cos(2*np.pi*f2*t)\n",
    "    display(Audio(data=signal, rate=samp_rate,autoplay=True))\n",
    "    return signal\n",
    "\n",
    "x = play_key(4)\n",
    "\n",
    "# spectrum\n",
    "x_spectrum = np.fft.fft(x)\n",
    "\n",
    "# DFT frequencies\n",
    "freq = np.fft.fftfreq(x_spectrum.size)\n",
    "\n",
    "plt.figure(2)\n",
    "plt.plot(freq,abs(x_spectrum))"
   ]
  },
  {
   "cell_type": "markdown",
   "metadata": {},
   "source": [
    "### Step 2a: Correlation With Reference Bank"
   ]
  },
  {
   "cell_type": "code",
   "execution_count": null,
   "metadata": {
    "collapsed": false
   },
   "outputs": [],
   "source": [
    "samp_rate = 8000\n",
    "# create sinusoid to correlate\n",
    "f_c = 1209\n",
    "duration = 1\n",
    "t = np.linspace(0,duration,duration*samp_rate)\n",
    "reference_signal = np.cos(2*np.pi*f_c*t)\n",
    "\n",
    "# multiply and accumulate reference and DTMF signals\n",
    "print \"correlation is\", np.sum(reference_signal*x)\n",
    "\n",
    "# make a function for correlation\n",
    "def corr_w_signal(x,f_c=1209,duration=1):\n",
    "    t = np.linspace(0,duration,duration*samp_rate)\n",
    "    reference_signal = np.cos(2*np.pi*f_c*t)\n",
    "    return np.sum(reference_signal*x)\n",
    "\n",
    "# test function\n",
    "print \"correlation w/ function is\", corr_w_signal(x,f_c,duration=1)"
   ]
  },
  {
   "cell_type": "markdown",
   "metadata": {},
   "source": [
    "### Step 2b: Calculate Correlations"
   ]
  },
  {
   "cell_type": "code",
   "execution_count": null,
   "metadata": {
    "collapsed": false
   },
   "outputs": [],
   "source": [
    "# Calulate correlation for each frequency possibility\n",
    "col_corr_vals = [corr_w_signal(x,f_c,duration=1) for f_c in cols]\n",
    "row_corr_vals = [corr_w_signal(x,f_c,duration=1) for f_c in rows]\n",
    "print \"col_corr_vals =\",col_corr_vals\n",
    "print \"row_corr_vals =\",row_corr_vals\n",
    "\n",
    "plt.figure(1)\n",
    "plt.bar(cols,col_corr_vals);\n",
    "plt.bar(rows,row_corr_vals);"
   ]
  },
  {
   "cell_type": "markdown",
   "metadata": {},
   "source": [
    "### Step 2c: Find Max Correlations"
   ]
  },
  {
   "cell_type": "code",
   "execution_count": null,
   "metadata": {
    "collapsed": false
   },
   "outputs": [],
   "source": [
    "def key_estimate(x):\n",
    "    col_corr_vals = [corr_w_signal(x,f_c,duration=1) for f_c in cols]\n",
    "    row_corr_vals = [corr_w_signal(x,f_c,duration=1) for f_c in rows]\n",
    "    return key_pad[np.argmax(row_corr_vals),np.argmax(col_corr_vals)]\n",
    "\n",
    "key_estimate(x)"
   ]
  },
  {
   "cell_type": "markdown",
   "metadata": {},
   "source": [
    "### Step 3: Put it All Together"
   ]
  },
  {
   "cell_type": "code",
   "execution_count": null,
   "metadata": {
    "collapsed": false
   },
   "outputs": [],
   "source": [
    "key_num = 0\n",
    "\n",
    "x = play_key(key_num)\n",
    "\n",
    "print \"key_estimate =\", key_estimate(x)"
   ]
  },
  {
   "cell_type": "code",
   "execution_count": null,
   "metadata": {
    "collapsed": true
   },
   "outputs": [],
   "source": []
  }
 ],
 "metadata": {
  "anaconda-cloud": {},
  "hide_input": false,
  "kernelspec": {
   "display_name": "Python 2",
   "language": "python",
   "name": "python2"
  },
  "language_info": {
   "codemirror_mode": {
    "name": "ipython",
    "version": 2
   },
   "file_extension": ".py",
   "mimetype": "text/x-python",
   "name": "python",
   "nbconvert_exporter": "python",
   "pygments_lexer": "ipython2",
   "version": "2.7.9"
  },
  "latex_envs": {
   "bibliofile": "biblio.bib",
   "cite_by": "apalike",
   "current_citInitial": 1,
   "eqLabelWithNumbers": true,
   "eqNumInitial": 0
  },
  "nav_menu": {},
  "toc": {
   "navigate_menu": true,
   "number_sections": true,
   "sideBar": true,
   "threshold": 6,
   "toc_cell": false,
   "toc_section_display": "block",
   "toc_window_display": false
  }
 },
 "nbformat": 4,
 "nbformat_minor": 0
}
